{
 "cells": [
  {
   "cell_type": "code",
   "execution_count": 25,
   "metadata": {
    "collapsed": true
   },
   "outputs": [],
   "source": [
    "from __future__ import print_function, division\n",
    "\n",
    "import thinkdsp\n",
    "import thinkplot\n",
    "\n",
    "import numpy as np\n",
    "\n",
    "import warnings\n",
    "warnings.filterwarnings('ignore')\n",
    "\n",
    "from ipywidgets import interact, interactive, fixed\n",
    "import ipywidgets as widgets\n",
    "\n",
    "%matplotlib inline\n",
    "PI2 = np.pi * 2"
   ]
  },
  {
   "cell_type": "code",
   "execution_count": 26,
   "metadata": {
    "collapsed": true
   },
   "outputs": [],
   "source": [
    "def synthesize1(amps, fs, ts):\n",
    "    components = [thinkdsp.CosSignal(freq, amp)\n",
    "                 for amp, freq in zip(amps, fs)]\n",
    "    signal = thinkdsp.SumSignal(*components)\n",
    "    \n",
    "    ys = signal.evaluate(ts)\n",
    "    return ys"
   ]
  },
  {
   "cell_type": "markdown",
   "metadata": {},
   "source": [
    "1. synthesize1을 amp값과 주파수의값, 샘플링시간을 매개변수로 사용하여 선언\n",
    "2. components변수에 cos시그널을 freq와 amp값을 이용하여 만들고 amp값과 fs값의 참조는 zip에서 함\n",
    "3. signal변수에는 SumSignal을components를 이용하여 수행한 값을 저장\n",
    "4. ys값에 signal변수를 ts로 evaluate한 값을 저장"
   ]
  },
  {
   "cell_type": "code",
   "execution_count": 27,
   "metadata": {
    "collapsed": true
   },
   "outputs": [],
   "source": [
    "amps = np.array([0.6, 0.25, 0.1, 0.05])\n",
    "fs = [100, 200, 300, 400]\n",
    "framerate = 11025\n",
    "\n",
    "ts = np.linspace(0, 1, framerate)\n",
    "ys = synthesize1(amps, fs, ts)\n",
    "wave = thinkdsp.Wave(ys, ts, framerate)"
   ]
  },
  {
   "cell_type": "markdown",
   "metadata": {},
   "source": [
    "1. amps값을 정의\n",
    "2. fs값을 정의\n",
    "3. framerate : ts의 크기를 정의\n",
    "4. ts의 간격을 정의\n",
    "5. ys에 synthesize1을 새로 정의한 amps, fs, ts값으로 다시 수행하여 ys에 저장\n",
    "5. wave폼으로 변형"
   ]
  },
  {
   "cell_type": "code",
   "execution_count": 28,
   "metadata": {
    "collapsed": true
   },
   "outputs": [],
   "source": [
    "def synthesize2(amps, fs, ts):\n",
    "    args = np.outer(ts, fs)\n",
    "    M = np.cos(PI2 * args)\n",
    "    ys = np.dot(M, amps)\n",
    "    return ys"
   ]
  },
  {
   "cell_type": "code",
   "execution_count": 29,
   "metadata": {},
   "outputs": [],
   "source": [
    "ys = synthesize2(amps, fs, ts)\n",
    "wave = thinkdsp.Wave(ys, framerate)"
   ]
  },
  {
   "cell_type": "code",
   "execution_count": 40,
   "metadata": {},
   "outputs": [
    {
     "data": {
      "text/plain": [
       "1.2911893776390571e-13"
      ]
     },
     "execution_count": 40,
     "metadata": {},
     "output_type": "execute_result"
    }
   ],
   "source": [
    "ys1 = synthesize1(amps, fs, ts)\n",
    "ys2 = synthesize2(amps, fs, ts)\n",
    "max(abs(ys1-ys2))"
   ]
  },
  {
   "cell_type": "code",
   "execution_count": 42,
   "metadata": {
    "collapsed": true
   },
   "outputs": [],
   "source": [
    "def analyze1(ys, fs, ts):\n",
    "    args = np.outer(ts, fs)\n",
    "    M = np.cos(PI2 * args)\n",
    "    amps = np.linalg.solve(M, ys)\n",
    "    return amps"
   ]
  },
  {
   "cell_type": "markdown",
   "metadata": {},
   "source": [
    "Using the first 4 values from the wave array, we can recover the amplitudes."
   ]
  },
  {
   "cell_type": "code",
   "execution_count": 43,
   "metadata": {},
   "outputs": [
    {
     "data": {
      "text/plain": [
       "array([ 0.6 ,  0.25,  0.1 ,  0.05])"
      ]
     },
     "execution_count": 43,
     "metadata": {},
     "output_type": "execute_result"
    }
   ],
   "source": [
    "n = len(fs)\n",
    "amps2 = analyze1(ys[:n], fs, ts[:n])\n",
    "amps2"
   ]
  },
  {
   "cell_type": "code",
   "execution_count": 46,
   "metadata": {
    "collapsed": true
   },
   "outputs": [],
   "source": [
    "# suppress scientific notation for small numbers\n",
    "np.set_printoptions(precision=3, suppress=True)"
   ]
  },
  {
   "cell_type": "code",
   "execution_count": 49,
   "metadata": {},
   "outputs": [
    {
     "data": {
      "text/plain": [
       "array([[ 1.   ,  1.   ,  1.   ,  1.   ],\n",
       "       [ 1.   ,  0.707,  0.   , -0.707],\n",
       "       [ 1.   ,  0.   , -1.   , -0.   ],\n",
       "       [ 1.   , -0.707, -0.   ,  0.707]])"
      ]
     },
     "execution_count": 49,
     "metadata": {},
     "output_type": "execute_result"
    }
   ],
   "source": [
    "def test1():\n",
    "    amps = np.array([0.6, 0.25, 0.1, 0.05])\n",
    "    N = 4.0\n",
    "    time_unit = 0.001\n",
    "    ts = np.arange(N) / N * time_unit\n",
    "    max_freq = N / time_unit / 2\n",
    "    fs = np.arange(n) / N * max_freq\n",
    "    args = np.outer(ts, fs)\n",
    "    M = np.cos(PI2 * args)\n",
    "    return M\n",
    "\n",
    "M = test1()\n",
    "M"
   ]
  },
  {
   "cell_type": "markdown",
   "metadata": {},
   "source": [
    "1. test1을 정의\n",
    "2. amps값에 배열로 값을 저장\n",
    "3. N 은 주파수 성분의 갯수\n",
    "4. time_unit은 사용자의 편의를 위한 작성\n",
    "5. ts에 정한 주파수N번째를 N*0.001로 나누어서 저장\n",
    "6. max_freq 에는 4 / 0.001 / 2의값을 저장\n",
    "7. fs(주파수값)에는 주파수의 범위를 N*(4/0.001/2)의값으로 나누어서 저장\n",
    "8. args에 outer연산한 값을 저장\n",
    "9. 행렬M을 완성함( y = Ma를 이용)\n",
    "10. M을 리턴하고 종료\n",
    "11. M에 test1값을 저장\n",
    "12. M은?"
   ]
  },
  {
   "cell_type": "code",
   "execution_count": 51,
   "metadata": {},
   "outputs": [
    {
     "data": {
      "text/plain": [
       "array([[ 4.,  1., -0.,  1.],\n",
       "       [ 1.,  2.,  1.,  0.],\n",
       "       [-0.,  1.,  2.,  1.],\n",
       "       [ 1.,  0.,  1.,  2.]])"
      ]
     },
     "execution_count": 51,
     "metadata": {},
     "output_type": "execute_result"
    }
   ],
   "source": [
    "M.transpose().dot(M)"
   ]
  },
  {
   "cell_type": "code",
   "execution_count": 53,
   "metadata": {},
   "outputs": [
    {
     "data": {
      "text/plain": [
       "array([[ 0.981,  0.831,  0.556,  0.195],\n",
       "       [ 0.831, -0.195, -0.981, -0.556],\n",
       "       [ 0.556, -0.981,  0.195,  0.831],\n",
       "       [ 0.195, -0.556,  0.831, -0.981]])"
      ]
     },
     "execution_count": 53,
     "metadata": {},
     "output_type": "execute_result"
    }
   ],
   "source": [
    "def test2():\n",
    "    amps = np.array([0.6, 0.25, 0.1, 0.05])\n",
    "    N = 4.0\n",
    "    ts = (0.5 + np.arange(N)) / N\n",
    "    fs = (0.5 + np.arange(N)) / 2\n",
    "    args = np.outer(ts, fs)\n",
    "    M = np.cos(PI2 * args)\n",
    "    return M\n",
    "\n",
    "M = test2()\n",
    "M"
   ]
  },
  {
   "cell_type": "markdown",
   "metadata": {},
   "source": [
    "Now $M^T M$ is $2I$ (approximately), so M is orthogonal except for a factor of two."
   ]
  },
  {
   "cell_type": "code",
   "execution_count": 57,
   "metadata": {},
   "outputs": [
    {
     "data": {
      "text/plain": [
       "array([[ 2., -0.,  0.,  0.],\n",
       "       [-0.,  2., -0., -0.],\n",
       "       [ 0., -0.,  2., -0.],\n",
       "       [ 0., -0., -0.,  2.]])"
      ]
     },
     "execution_count": 57,
     "metadata": {},
     "output_type": "execute_result"
    }
   ],
   "source": [
    "M.transpose().dot(M)"
   ]
  },
  {
   "cell_type": "code",
   "execution_count": 54,
   "metadata": {
    "collapsed": true
   },
   "outputs": [],
   "source": [
    "wave = thinkdsp.Wave(ys, ts, framerate)"
   ]
  },
  {
   "cell_type": "code",
   "execution_count": 55,
   "metadata": {
    "collapsed": true
   },
   "outputs": [],
   "source": [
    "def analyze2(ys, fs, ts):\n",
    "    args = np.outer(ts, fs)\n",
    "    M = np.cos(PI2 * args)\n",
    "    amps = M.dot(ys) / 2\n",
    "    return amps"
   ]
  },
  {
   "cell_type": "code",
   "execution_count": 56,
   "metadata": {},
   "outputs": [
    {
     "data": {
      "text/plain": [
       "array([ 0.6 ,  0.25,  0.1 ,  0.05])"
      ]
     },
     "execution_count": 56,
     "metadata": {},
     "output_type": "execute_result"
    }
   ],
   "source": [
    "n = len(fs)\n",
    "amps = analyze1(ys[:n], fs, ts[:n])\n",
    "amps2"
   ]
  },
  {
   "cell_type": "code",
   "execution_count": 58,
   "metadata": {
    "collapsed": true
   },
   "outputs": [],
   "source": [
    "def dct_iv(ys):\n",
    "    N = len(ys)\n",
    "    ts = (0.5 + np.arange(N)) / N\n",
    "    fs = (0.5 + np.arange(N)) / 2\n",
    "    args = np.outer(ts, fs)\n",
    "    M = np.cos(PI2 * args)\n",
    "    amps = np.dot(M, ys) / 2\n",
    "    return amps"
   ]
  },
  {
   "cell_type": "code",
   "execution_count": 63,
   "metadata": {},
   "outputs": [
    {
     "name": "stdout",
     "output_type": "stream",
     "text": [
      "8.32667268469e-17\n"
     ]
    }
   ],
   "source": [
    "amps = np.array([0.6, 0.25, 0.1, 0.05])\n",
    "N = 4.0\n",
    "ts = (0.5 + np.arange(n)) / N\n",
    "fs = (0.5 + np.arange(n)) / 2\n",
    "ys = synthesize2(amps, fs, ts)\n",
    "\n",
    "amps2 = dct_iv(ys)\n",
    "print(max(abs(amps - amps2)))"
   ]
  },
  {
   "cell_type": "code",
   "execution_count": 64,
   "metadata": {
    "collapsed": true
   },
   "outputs": [],
   "source": [
    "def inverse_dct_iv(amps):\n",
    "    return dct_iv(amps) * 2"
   ]
  },
  {
   "cell_type": "code",
   "execution_count": 65,
   "metadata": {},
   "outputs": [
    {
     "data": {
      "text/plain": [
       "8.3266726846886741e-17"
      ]
     },
     "execution_count": 65,
     "metadata": {},
     "output_type": "execute_result"
    }
   ],
   "source": [
    "amps = [0.6, 0.25, 0.1, 0.05]\n",
    "ys = inverse_dct_iv(amps)\n",
    "amps2 = dct_iv(ys)\n",
    "max(abs(amps - amps2))"
   ]
  },
  {
   "cell_type": "code",
   "execution_count": 68,
   "metadata": {},
   "outputs": [
    {
     "data": {
      "text/html": [
       "\n",
       "                <audio controls=\"controls\" >\n",
       "                    <source src=\"data:audio/wav;base64,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\" type=\"audio/wav\" />\n",
       "                    Your browser does not support the audio element.\n",
       "                </audio>\n",
       "              "
      ],
      "text/plain": [
       "<IPython.lib.display.Audio object>"
      ]
     },
     "execution_count": 68,
     "metadata": {},
     "output_type": "execute_result"
    }
   ],
   "source": [
    "signal = thinkdsp.TriangleSignal(freq=400)\n",
    "wave = signal.make_wave(duration=1.0, framerate=10000)\n",
    "wave.make_audio()"
   ]
  },
  {
   "cell_type": "code",
   "execution_count": 69,
   "metadata": {},
   "outputs": [
    {
     "data": {
      "image/png": "[encoded data removed]",
      "text/plain": [
       "<matplotlib.figure.Figure at 0x695ee48>"
      ]
     },
     "metadata": {},
     "output_type": "display_data"
    }
   ],
   "source": [
    "dct = wave.make_dct()\n",
    "dct.plot()\n",
    "thinkplot.config(xlabel='Frequency (Hz)', ylabel='DCT')"
   ]
  },
  {
   "cell_type": "code",
   "execution_count": 70,
   "metadata": {
    "collapsed": true
   },
   "outputs": [],
   "source": [
    "wave2 = dct.make_wave()"
   ]
  },
  {
   "cell_type": "code",
   "execution_count": 71,
   "metadata": {},
   "outputs": [
    {
     "data": {
      "text/plain": [
       "8.8817841970012523e-16"
      ]
     },
     "execution_count": 71,
     "metadata": {},
     "output_type": "execute_result"
    }
   ],
   "source": [
    "max(abs(wave.ys-wave2.ys))"
   ]
  },
  {
   "cell_type": "code",
   "execution_count": 72,
   "metadata": {},
   "outputs": [
    {
     "data": {
      "image/png": "[encoded data removed]",
      "text/plain": [
       "<matplotlib.figure.Figure at 0xd7cdc50>"
      ]
     },
     "metadata": {},
     "output_type": "display_data"
    }
   ],
   "source": [
    "signal = thinkdsp.TriangleSignal(freq=400, offset =0)\n",
    "wave = signal.make_wave(duration= 1.0, framerate=10000)\n",
    "wave.ys *= -1\n",
    "wave.make_dct().plot()"
   ]
  },
  {
   "cell_type": "code",
   "execution_count": 73,
   "metadata": {},
   "outputs": [
    {
     "data": {
      "image/png": "[encoded data removed]",
      "text/plain": [
       "<matplotlib.figure.Figure at 0xdb720f0>"
      ]
     },
     "metadata": {},
     "output_type": "display_data"
    }
   ],
   "source": [
    "signal = thinkdsp.TriangleSignal(freq=400, offset=np.pi)\n",
    "wave = signal.make_wave(duration=1.0, framerate=10000)\n",
    "wave.make_dct().plot()"
   ]
  },
  {
   "cell_type": "code",
   "execution_count": 74,
   "metadata": {
    "collapsed": true
   },
   "outputs": [],
   "source": [
    "import scipy.fftpack\n",
    "\n",
    "# class Wave:\n",
    "def make_dct(self):\n",
    "        N = len(self.ys)\n",
    "        hs = scipy.fftpack.dct(self.ys, type=2)\n",
    "        fs = (0.5 + np.arange(n)) / 2\n",
    "        return Dct(hs, fs, self.framerate)"
   ]
  },
  {
   "cell_type": "code",
   "execution_count": 75,
   "metadata": {},
   "outputs": [
    {
     "data": {
      "text/plain": [
       "2.0000000000000009"
      ]
     },
     "execution_count": 75,
     "metadata": {},
     "output_type": "execute_result"
    }
   ],
   "source": [
    "wave2 = dct.make_wave()\n",
    "max(abs(wave.ys-wave2.ys))"
   ]
  },
  {
   "cell_type": "code",
   "execution_count": null,
   "metadata": {
    "collapsed": true
   },
   "outputs": [],
   "source": []
  },
  {
   "cell_type": "code",
   "execution_count": null,
   "metadata": {
    "collapsed": true
   },
   "outputs": [],
   "source": []
  },
  {
   "cell_type": "code",
   "execution_count": null,
   "metadata": {
    "collapsed": true
   },
   "outputs": [],
   "source": []
  },
  {
   "cell_type": "code",
   "execution_count": null,
   "metadata": {
    "collapsed": true
   },
   "outputs": [],
   "source": []
  }
 ],
 "metadata": {
  "kernelspec": {
   "display_name": "Python 2",
   "language": "python",
   "name": "python2"
  },
  "language_info": {
   "codemirror_mode": {
    "name": "ipython",
    "version": 2
   },
   "file_extension": ".py",
   "mimetype": "text/x-python",
   "name": "python",
   "nbconvert_exporter": "python",
   "pygments_lexer": "ipython2",
   "version": "2.7.13"
  }
 },
 "nbformat": 4,
 "nbformat_minor": 2
}
